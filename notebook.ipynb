{
 "cells": [
  {
   "cell_type": "markdown",
   "id": "f21c4ed0",
   "metadata": {
    "jupyter": {
     "source_hidden": false
    }
   },
   "source": [
    "# Reservoir Computing Project #"
   ]
  },
  {
   "cell_type": "markdown",
   "id": "dbb42c90",
   "metadata": {
    "jupyter": {
     "source_hidden": false
    }
   },
   "source": [
    "## ESN Network Setup ###"
   ]
  },
  {
   "cell_type": "markdown",
   "id": "7c763e08",
   "metadata": {
    "jupyter": {
     "source_hidden": false
    }
   },
   "source": [
    "### Imports ###"
   ]
  },
  {
   "cell_type": "code",
   "execution_count": 38,
   "id": "85b12e04",
   "metadata": {
    "collapsed": false,
    "jupyter": {
     "outputs_hidden": false,
     "source_hidden": false
    }
   },
   "outputs": [
    {
     "name": "stdout",
     "output_type": "stream",
     "text": [
      "[[ 1.          1.          1.        ]\n",
      " [ 1.1073228   1.79872164  0.96516196]\n",
      " [ 1.40967473  2.74000007  0.97272208]\n",
      " ...\n",
      " [-0.27309074 -0.50415907  8.98103121]\n",
      " [-0.35422832 -0.66790582  8.29546755]\n",
      " [-0.46425047 -0.88919121  7.66653225]]\n"
     ]
    }
   ],
   "source": [
    "from reservoirpy.datasets import lorenz\n",
    "X = lorenz(n_timesteps=2000)\n",
    "\n",
    "print(X)"
   ]
  },
  {
   "cell_type": "code",
   "execution_count": 39,
   "id": "f5642b17",
   "metadata": {
    "collapsed": false,
    "jupyter": {
     "outputs_hidden": false,
     "source_hidden": false
    }
   },
   "outputs": [],
   "source": [
    "from reservoirpy.nodes import Reservoir, Ridge\n",
    "\n",
    "reservoir = Reservoir(units=100, lr=0.3, sr=1.25)\n",
    "readout = Ridge(output_dim=3, ridge=1e-5)"
   ]
  },
  {
   "cell_type": "code",
   "execution_count": 40,
   "id": "b14bd932",
   "metadata": {
    "collapsed": false,
    "jupyter": {
     "outputs_hidden": false,
     "source_hidden": false
    }
   },
   "outputs": [],
   "source": [
    "esn = reservoir >> readout"
   ]
  },
  {
   "cell_type": "code",
   "execution_count": 41,
   "id": "52b75d2e",
   "metadata": {
    "collapsed": false,
    "jupyter": {
     "outputs_hidden": false,
     "source_hidden": false
    }
   },
   "outputs": [
    {
     "name": "stderr",
     "output_type": "stream",
     "text": [
      "\r",
      "Running Model-5:   0%|          | 0/1 [00:00<?, ?it/s]"
     ]
    },
    {
     "name": "stderr",
     "output_type": "stream",
     "text": [
      "\n"
     ]
    },
    {
     "name": "stderr",
     "output_type": "stream",
     "text": [
      "\r",
      "Running Model-5:   0%|          | 0/1 [00:00<?, ?it/s]"
     ]
    },
    {
     "name": "stderr",
     "output_type": "stream",
     "text": [
      "\u001b[A"
     ]
    },
    {
     "name": "stderr",
     "output_type": "stream",
     "text": [
      "\r",
      "Running Model-5: 500it [00:00, 5469.52it/s]           "
     ]
    },
    {
     "name": "stderr",
     "output_type": "stream",
     "text": [
      "\n",
      "\r",
      "Running Model-5: 100%|██████████| 1/1 [00:00<00:00,  6.83it/s]"
     ]
    },
    {
     "name": "stderr",
     "output_type": "stream",
     "text": [
      "\r",
      "Running Model-5: 100%|██████████| 1/1 [00:00<00:00,  6.80it/s]"
     ]
    },
    {
     "name": "stderr",
     "output_type": "stream",
     "text": [
      "\n"
     ]
    },
    {
     "name": "stdout",
     "output_type": "stream",
     "text": [
      "Fitting node Ridge-7...\n"
     ]
    },
    {
     "name": "stderr",
     "output_type": "stream",
     "text": [
      "\r",
      "Running Model-5:   0%|          | 0/1 [00:00<?, ?it/s]"
     ]
    },
    {
     "name": "stderr",
     "output_type": "stream",
     "text": [
      "\r",
      "Running Model-5: 374it [00:00, 3738.70it/s]           "
     ]
    },
    {
     "name": "stderr",
     "output_type": "stream",
     "text": [
      "\r",
      "Running Model-5: 759it [00:00, 3803.92it/s]"
     ]
    },
    {
     "name": "stderr",
     "output_type": "stream",
     "text": [
      "\r",
      "Running Model-5: 1140it [00:00, 3732.12it/s]"
     ]
    },
    {
     "name": "stderr",
     "output_type": "stream",
     "text": [
      "\r",
      "Running Model-5: 1498it [00:00, 3695.47it/s]"
     ]
    },
    {
     "name": "stderr",
     "output_type": "stream",
     "text": [
      "\n"
     ]
    }
   ],
   "source": [
    "predictions = esn.fit(X[:500], X[1:501]).run(X[501:-1])"
   ]
  },
  {
   "cell_type": "code",
   "execution_count": 42,
   "id": "94673cd5",
   "metadata": {
    "collapsed": false,
    "jupyter": {
     "outputs_hidden": false,
     "source_hidden": false
    }
   },
   "outputs": [
    {
     "name": "stdout",
     "output_type": "stream",
     "text": [
      "RMSE: 40.01341808980783 R^2 score: -7.363789313129299\n"
     ]
    }
   ],
   "source": [
    "from reservoirpy.observables import rmse, rsquare\n",
    "\n",
    "print(\"RMSE:\", rmse(X[502:], predictions), \"R^2 score:\", rsquare(X[502:], predictions))"
   ]
  }
 ],
 "metadata": {
  "kernelspec": {
   "display_name": "Python 3 (ipykernel)",
   "language": "python",
   "name": "python3"
  },
  "language_info": {
   "codemirror_mode": {
    "name": "ipython",
    "version": 3
   },
   "file_extension": ".py",
   "mimetype": "text/x-python",
   "name": "python",
   "nbconvert_exporter": "python",
   "pygments_lexer": "ipython3",
   "version": "3.12.3"
  },
  "widgets": {
   "application/vnd.jupyter.widget-state+json": {
    "state": {},
    "version_major": 2,
    "version_minor": 0
   }
  }
 },
 "nbformat": 4,
 "nbformat_minor": 2
}
